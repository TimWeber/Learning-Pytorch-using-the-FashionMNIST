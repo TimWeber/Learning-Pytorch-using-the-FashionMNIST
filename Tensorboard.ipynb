{
 "cells": [
  {
   "cell_type": "code",
   "execution_count": 1,
   "id": "133e6c79",
   "metadata": {},
   "outputs": [],
   "source": [
    "import torch\n",
    "import torch.nn as nn\n",
    "import torch.nn.functional as F\n",
    "import torch.optim as optim\n",
    "\n",
    "import torchvision as vision\n",
    "import torchvision.transforms as transforms\n",
    "\n",
    "torch.set_printoptions(linewidth=120) # Display options for output\n",
    "\n",
    "import tensorboard\n",
    "\n",
    "from torch.utils.tensorboard import SummaryWriter\n",
    "from tensorboard import notebook\n",
    "\n",
    "from itertools import product"
   ]
  },
  {
   "cell_type": "code",
   "execution_count": 2,
   "id": "0d4da4f8",
   "metadata": {},
   "outputs": [
    {
     "name": "stdout",
     "output_type": "stream",
     "text": [
      "    PyTorch Version: 1.10.0\n",
      "Torchvision Version: 0.11.1\n",
      "Tensorboard Version: 2.7.0\n",
      "\n",
      "----------------------------------------\n",
      "Known TensorBoard instances:\n",
      "  - port 6006: logdir runs (started 0:58:59 ago; pid 26424)\n"
     ]
    }
   ],
   "source": [
    "print(\"    PyTorch Version:\", torch.__version__)\n",
    "print(\"Torchvision Version:\", vision.__version__)\n",
    "print(\"Tensorboard Version:\", tensorboard.__version__)\n",
    "print()\n",
    "print(\"----------------------------------------\")\n",
    "notebook.list()"
   ]
  },
  {
   "cell_type": "code",
   "execution_count": 3,
   "id": "faa4e060",
   "metadata": {},
   "outputs": [],
   "source": [
    "def get_num_correct(preds, labels):\n",
    "  return preds.argmax(dim=1).eq(labels).sum().item()"
   ]
  },
  {
   "cell_type": "code",
   "execution_count": 4,
   "id": "1cda11b9",
   "metadata": {},
   "outputs": [],
   "source": [
    "parameters = dict(\n",
    "        lr = [0.01, 0.001]\n",
    "        ,batch_size = [10, 100, 1000]\n",
    "        ,shuffle = [True, False]\n",
    ")"
   ]
  },
  {
   "cell_type": "code",
   "execution_count": 5,
   "id": "32e5df64",
   "metadata": {
    "scrolled": true
   },
   "outputs": [
    {
     "data": {
      "text/plain": [
       "[[0.01, 0.001], [10, 100, 1000], [True, False]]"
      ]
     },
     "execution_count": 5,
     "metadata": {},
     "output_type": "execute_result"
    }
   ],
   "source": [
    "param_values = [i for i in parameters.values()]\n",
    "param_values"
   ]
  },
  {
   "cell_type": "code",
   "execution_count": 12,
   "id": "9d9336b8",
   "metadata": {},
   "outputs": [
    {
     "name": "stdout",
     "output_type": "stream",
     "text": [
      "0.01 10 True\n",
      "0.01 10 False\n",
      "0.01 100 True\n",
      "0.01 100 False\n",
      "0.01 1000 True\n",
      "0.01 1000 False\n",
      "0.001 10 True\n",
      "0.001 10 False\n",
      "0.001 100 True\n",
      "0.001 100 False\n",
      "0.001 1000 True\n",
      "0.001 1000 False\n"
     ]
    }
   ],
   "source": [
    "for lr, batch_size, shuffle in product(*param_values):\n",
    "    print(lr, batch_size, shuffle)"
   ]
  },
  {
   "cell_type": "code",
   "execution_count": 8,
   "id": "977db6de",
   "metadata": {},
   "outputs": [],
   "source": [
    "class Network(nn.Module):\n",
    "  def __init__(self):\n",
    "    super().__init__()\n",
    "    self.conv1 = nn.Conv2d(in_channels=1, out_channels=6, kernel_size=5)\n",
    "    self.conv2 = nn.Conv2d(in_channels=6, out_channels=12, kernel_size=5)\n",
    "\n",
    "    self.fc1 = nn.Linear(in_features=12 * 4 * 4, out_features=120)\n",
    "    self.fc2 = nn.Linear(in_features=120, out_features=60)\n",
    "    self.out = nn.Linear(in_features=60, out_features=10)\n",
    "\n",
    "  def forward(self, t):\n",
    "\n",
    "    t = F.relu(self.conv1(t))\n",
    "    t = F.max_pool2d(t, kernel_size=2, stride=2)\n",
    "\n",
    "    t = F.relu(self.conv2(t))\n",
    "    t = F.max_pool2d(t, kernel_size=2, stride=2) \n",
    "\n",
    "    t = t.flatten(start_dim=1)\n",
    "    t = F.relu(self.fc1(t))\n",
    "\n",
    "    t = F.relu(self.fc2(t))\n",
    "\n",
    "    t = self.out(t)\n",
    "\n",
    "    return t"
   ]
  },
  {
   "cell_type": "code",
   "execution_count": 9,
   "id": "5f6b4b45",
   "metadata": {
    "scrolled": true
   },
   "outputs": [],
   "source": [
    "# Load the training set. \n",
    "\n",
    "train_set = vision.datasets.FashionMNIST(\n",
    "    root='./data'\n",
    "    ,train=True\n",
    "    ,download=False # If the data needs to be downloaded, change to True.\n",
    "    ,transform=transforms.Compose([\n",
    "                transforms.ToTensor()\n",
    "    ])\n",
    ")"
   ]
  },
  {
   "cell_type": "code",
   "execution_count": 16,
   "id": "5d58a7de",
   "metadata": {
    "scrolled": true
   },
   "outputs": [
    {
     "name": "stdout",
     "output_type": "stream",
     "text": [
      "Run: 1 total_correct: 46906 loss: 347.0539879798889\n",
      "Run: 2 total_correct: 50060 loss: 271.28078520298004\n",
      "Run: 3 total_correct: 51188 loss: 2409.0529084205627\n",
      "Run: 4 total_correct: 52132 loss: 2166.92715883255\n",
      "Run: 5 total_correct: 52538 loss: 20428.76425385475\n",
      "Run: 6 total_correct: 53004 loss: 19349.056839942932\n",
      "Run: 7 total_correct: 53270 loss: 184.72918450832367\n",
      "Run: 8 total_correct: 53555 loss: 176.84176236391068\n",
      "Run: 9 total_correct: 53749 loss: 1715.3362542390823\n",
      "Run: 10 total_correct: 53941 loss: 1649.2481961846352\n",
      "Run: 11 total_correct: 54143 loss: 15946.110963821411\n",
      "Run: 12 total_correct: 54282 loss: 15401.7873108387\n"
     ]
    }
   ],
   "source": [
    "run_number = 0\n",
    "network = Network()\n",
    "train_loader = torch.utils.data.DataLoader(train_set, batch_size=batch_size, shuffle=True)\n",
    "images, labels = next(iter(train_loader))\n",
    "grid = vision.utils.make_grid(images)\n",
    "optimizer = optim.Adam(network.parameters(), lr=lr)\n",
    "\n",
    "for lr, batch_size, shuffle in product(*param_values):\n",
    "    comment = f' batch_size={batch_size} lr={lr} shuffle={shuffle}'\n",
    "\n",
    "# allows us to identify each run in tensorboard\n",
    "#comment = f' batch_size={batch_size} lr={lr}' \n",
    "    tb = SummaryWriter(comment=comment) \n",
    "    tb.add_image('images', grid)\n",
    "    tb.add_graph(network, images)\n",
    "    # ---------------------------------------------\n",
    "\n",
    "    for epoch in range(5):\n",
    "      total_loss = 0\n",
    "      total_correct = 0\n",
    "      for batch in train_loader:\n",
    "        images, labels = batch # get batch\n",
    "        preds = network(images) # Pass batch\n",
    "        loss = F.cross_entropy(preds, labels) # calculate loss\n",
    "        optimizer.zero_grad() # zero out gradients\n",
    "        loss.backward() # Calculate new gradients\n",
    "        optimizer.step() # update weights\n",
    "\n",
    "        total_loss += loss.item() * batch_size\n",
    "        total_correct += get_num_correct(preds, labels)\n",
    "\n",
    "      tb.add_scalar('Loss', total_loss, epoch)\n",
    "      tb.add_scalar('Number Correct', total_correct, epoch)\n",
    "      tb.add_scalar('Accuracy', total_correct/len(train_set), epoch)\n",
    "\n",
    "      for name, weight in network.named_parameters():\n",
    "            tb.add_histogram(name, weight, epoch)\n",
    "            tb.add_histogram(f'{name}.grad', weight.grad, epoch)\n",
    "\n",
    "    run_number += 1\n",
    "    print(\"Run:\", run_number, \"total_correct:\", total_correct, \"loss:\", total_loss)\n",
    "\n",
    "tb.close()\n"
   ]
  },
  {
   "cell_type": "code",
   "execution_count": null,
   "id": "104b880d",
   "metadata": {},
   "outputs": [],
   "source": [
    "#"
   ]
  },
  {
   "cell_type": "code",
   "execution_count": null,
   "id": "1252e26a",
   "metadata": {},
   "outputs": [],
   "source": []
  }
 ],
 "metadata": {
  "kernelspec": {
   "display_name": "Python 3 (ipykernel)",
   "language": "python",
   "name": "python3"
  },
  "language_info": {
   "codemirror_mode": {
    "name": "ipython",
    "version": 3
   },
   "file_extension": ".py",
   "mimetype": "text/x-python",
   "name": "python",
   "nbconvert_exporter": "python",
   "pygments_lexer": "ipython3",
   "version": "3.9.7"
  }
 },
 "nbformat": 4,
 "nbformat_minor": 5
}
